{
 "cells": [
  {
   "cell_type": "markdown",
   "metadata": {},
   "source": [
    "Artificial Neural Network - Supervised learning"
   ]
  },
  {
   "cell_type": "code",
   "execution_count": null,
   "metadata": {
    "collapsed": true
   },
   "outputs": [],
   "source": [
    "class Neuron(object):\n",
    "    \n",
    "    def __init__(self, inweights=None, inputs=None):\n",
    "        self.threshold = 0\n",
    "        self.inputs = inputs\n",
    "        self.weights = inweights\n",
    "    \n",
    "    def activate(self):\n",
    "        output = 0\n",
    "        if (sum(self.inputs) * sum(self.weights)) > self.threshold:\n",
    "            output = 1\n",
    "        return output\n",
    "    \n",
    "    \n",
    "class ANN(object):\n",
    "    \n",
    "    def __init__(self, number_input, number_hidden, number_output):\n",
    "        self.input_layer = []\n",
    "        for i in range(number_input):\n",
    "            n = Nueron()\n",
    "        self.hidden_layer = []\n",
    "        for i in range(hidden_layer):\n",
    "            n = Nueron(inputs=self.input_layer)\n",
    "        self.output_layer = []\n",
    "        for i in range(output_layer):\n",
    "            n = Nueron(inputs=self.hidden_layer)\n",
    "    def "
   ]
  }
 ],
 "metadata": {
  "kernelspec": {
   "display_name": "Python 2",
   "language": "python",
   "name": "python2"
  },
  "language_info": {
   "codemirror_mode": {
    "name": "ipython",
    "version": 2
   },
   "file_extension": ".py",
   "mimetype": "text/x-python",
   "name": "python",
   "nbconvert_exporter": "python",
   "pygments_lexer": "ipython2",
   "version": "2.7.8"
  }
 },
 "nbformat": 4,
 "nbformat_minor": 0
}
