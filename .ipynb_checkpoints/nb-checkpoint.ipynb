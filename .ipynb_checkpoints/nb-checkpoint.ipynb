{
 "cells": [
  {
   "cell_type": "code",
   "execution_count": 4,
   "metadata": {
    "collapsed": false
   },
   "outputs": [],
   "source": [
    "import re\n",
    "cc = \"self.current(_)cmd@@\"\n",
    "cc = re.sub(r\"\\(\\)@\", \"\", cc)"
   ]
  },
  {
   "cell_type": "code",
   "execution_count": 5,
   "metadata": {
    "collapsed": false
   },
   "outputs": [
    {
     "name": "stdout",
     "output_type": "stream",
     "text": [
      "0b1100\n"
     ]
    }
   ],
   "source": [
    "print bin(12)"
   ]
  },
  {
   "cell_type": "code",
   "execution_count": 2,
   "metadata": {
    "collapsed": false
   },
   "outputs": [
    {
     "name": "stdout",
     "output_type": "stream",
     "text": [
      "0\n",
      "True\n",
      "1\n",
      "True\n",
      "2\n",
      "True\n",
      "3\n",
      "False\n",
      "4\n",
      "False\n"
     ]
    }
   ],
   "source": [
    "cmds = [1, 2, 3]\n",
    "command_index = 0\n",
    "def has_more_cmds(cmds, command_index):\n",
    "    if len(cmds) >= (command_index + 1):\n",
    "        return True\n",
    "    else: return False\n",
    "while command_index != 5:\n",
    "    print command_index\n",
    "    print has_more_cmds(cmds, command_index)\n",
    "    command_index += 1"
   ]
  },
  {
   "cell_type": "code",
   "execution_count": 5,
   "metadata": {
    "collapsed": false
   },
   "outputs": [
    {
     "name": "stdout",
     "output_type": "stream",
     "text": [
      "L_COMMAND\n"
     ]
    }
   ],
   "source": [
    "current_cmd = \"(OUTPUT_FIRST)\"\n",
    "commands = {\"@\": \"A_COMMAND\",\n",
    "            \"(\": \"L_COMMAND\",\n",
    "            \"M\": \"C_COMMAND\",}\n",
    "if current_cmd[0] in commands: # pythonic solution?\n",
    "    print commands[current_cmd[0]]\n",
    "elif current_cmd[0] == \"D\":\n",
    "    print \"C_COMMAND\""
   ]
  },
  {
   "cell_type": "code",
   "execution_count": 7,
   "metadata": {
    "collapsed": false
   },
   "outputs": [
    {
     "name": "stdout",
     "output_type": "stream",
     "text": [
      "True\n"
     ]
    }
   ],
   "source": [
    "x =\"ASSD\"\n",
    "if \"A\" in x:\n",
    "    print True\n"
   ]
  },
  {
   "cell_type": "code",
   "execution_count": 47,
   "metadata": {
    "collapsed": false
   },
   "outputs": [
    {
     "name": "stdout",
     "output_type": "stream",
     "text": [
      "comp\n"
     ]
    }
   ],
   "source": [
    "import re #re.findall ( '<!--(.*?)-->', string, re.DOTALL)\n",
    "cmd = \"dest=comp;jump\"\n",
    "description = \"\"\n",
    "if \"=\" in cmd and \";\" in cmd:\n",
    "    "
   ]
  },
  {
   "cell_type": "code",
   "execution_count": 68,
   "metadata": {
    "collapsed": false
   },
   "outputs": [
    {
     "name": "stdout",
     "output_type": "stream",
     "text": [
      "no result2\n"
     ]
    }
   ],
   "source": [
    "\"\"\" comp \"\"\"\n",
    "cc = \"qwe=qwe\"\n",
    "if \";\" in cc:\n",
    "    # everything after \"=\"\n",
    "    after_equals = r\"=.*\"\n",
    "    result = re.search(after_equals, cc)\n",
    "    if result:\n",
    "        comp = result.group(0)[1:-1]\n",
    "        print comp\n",
    "    else: print \"no result1\"\n",
    "elif \"=\" in cc:\n",
    "    # get comp between\n",
    "    from_equals_on = r\"=\"\n",
    "    result = re.search(from_equals_to_semi, cc)\n",
    "    if result:\n",
    "        comp = result.group(0)[1:-1]\n",
    "        print comp\n",
    "    else: print \"no result2\"\n",
    "else:\n",
    "    print \"not applicable\"\n"
   ]
  },
  {
   "cell_type": "code",
   "execution_count": 74,
   "metadata": {
    "collapsed": false
   },
   "outputs": [
    {
     "name": "stdout",
     "output_type": "stream",
     "text": [
      "comp\n"
     ]
    }
   ],
   "source": [
    "cc = \"qwe=comp;bar\"\n",
    "equals, semi = 0, 0\n",
    "comp = []\n",
    "for i, v in enumerate(cc):\n",
    "    if v == \"=\":\n",
    "        equals += (i + 1)\n",
    "    elif v == \";\":\n",
    "        semi += i\n",
    "if \"=\" in cc and \";\" in cc:\n",
    "    for v in cc[equals:semi]:\n",
    "        comp.append(v)\n",
    "elif \"=\" in cc:\n",
    "    for v in cc[equals:]:\n",
    "        comp.append(v)\n",
    "print \"\".join(comp)\n"
   ]
  },
  {
   "cell_type": "code",
   "execution_count": 77,
   "metadata": {
    "collapsed": false
   },
   "outputs": [
    {
     "data": {
      "text/plain": [
       "'1111011'"
      ]
     },
     "execution_count": 77,
     "metadata": {},
     "output_type": "execute_result"
    }
   ],
   "source": [
    "bin(123)[2:]"
   ]
  },
  {
   "cell_type": "code",
   "execution_count": 82,
   "metadata": {
    "collapsed": false
   },
   "outputs": [
    {
     "name": "stdout",
     "output_type": "stream",
     "text": [
      "{'-M': 51, 'M-D': 0, 'M-1': 0, 'D-M': 0}\n",
      "0\n"
     ]
    }
   ],
   "source": [
    "mnemonic = \"D+1\"\n",
    "ml = bin\n",
    "choices = {}\n",
    "if \"M\" in mnemonic:\n",
    "    if \"-\" in mnemonic:\n",
    "        choices = {\"M-D\": 00, \"D-M\": 00, \"M-1\": 00, \"-M\": 51}\n",
    "    elif \"+\" in mnemonic:\n",
    "        choices = {\"M+1\": 55, \"D+M\": 2}\n",
    "    elif \"|\" in mnemonic:\n",
    "        choices = {\"D|M\": 21}\n",
    "    elif \"&\" in mnemonic:\n",
    "        choices = {\"D&M\": 0}\n",
    "else:\n",
    "    if \"-\" in mnemonic:\n",
    "        choices = {\"-1\": 58, \"D-1\": 49, \"A-1\": 49, \"D-A\": 49, \"A-D\": 49}\n",
    "    elif \"+\" in mnemonic:\n",
    "        choices = {\"D+1\": 13, \"A+1\": 49, \"D+A\": 49}\n",
    "    elif \"|\" in mnemonic:\n",
    "        choices = {\"D|A\": 21}\n",
    "    elif \"&\" in mnemonic:\n",
    "        choices = {\"D&A\": 0}\n",
    "print ml(choices[mnemonic])[2:]"
   ]
  },
  {
   "cell_type": "code",
   "execution_count": null,
   "metadata": {
    "collapsed": true
   },
   "outputs": [],
   "source": []
  }
 ],
 "metadata": {
  "kernelspec": {
   "display_name": "Python 2",
   "language": "python",
   "name": "python2"
  },
  "language_info": {
   "codemirror_mode": {
    "name": "ipython",
    "version": 2
   },
   "file_extension": ".py",
   "mimetype": "text/x-python",
   "name": "python",
   "nbconvert_exporter": "python",
   "pygments_lexer": "ipython2",
   "version": "2.7.8"
  }
 },
 "nbformat": 4,
 "nbformat_minor": 0
}
