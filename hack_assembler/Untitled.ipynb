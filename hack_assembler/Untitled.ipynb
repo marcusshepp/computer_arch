{
 "cells": [
  {
   "cell_type": "code",
   "execution_count": 7,
   "metadata": {
    "collapsed": false
   },
   "outputs": [
    {
     "name": "stdout",
     "output_type": "stream",
     "text": [
      "00000000000000000000000000001100\n"
     ]
    }
   ],
   "source": [
    "def a_int_to_binary(line):\n",
    "    \"\"\" converts an A command with an integer value to binary. \"\"\"\n",
    "    number = line[1:]\n",
    "    number = str(bin(int(number)))[2:]\n",
    "    diff = abs(len(number) - 32)\n",
    "    pad = [\"0\" for count in range(diff)]\n",
    "    pad = \"\".join(pad)\n",
    "    return pad + number\n",
    "print a_int_to_binary(\"@12\")"
   ]
  },
  {
   "cell_type": "code",
   "execution_count": 8,
   "metadata": {
    "collapsed": false
   },
   "outputs": [
    {
     "name": "stdout",
     "output_type": "stream",
     "text": [
      "32\n"
     ]
    }
   ],
   "source": [
    "x = \"00000000000000000000000000001100\"\n",
    "print len(x)"
   ]
  },
  {
   "cell_type": "code",
   "execution_count": 5,
   "metadata": {
    "collapsed": false
   },
   "outputs": [
    {
     "name": "stdout",
     "output_type": "stream",
     "text": [
      "0\n"
     ]
    }
   ],
   "source": [
    "line = \"0;JMP\"\n",
    "def a_bit(line):\n",
    "    num = line.find(\"M\")\n",
    "    if num == -1:\n",
    "        return \"0\"\n",
    "    else:\n",
    "        if line.find(\"J\") + 1 == num:\n",
    "            return \"0\"\n",
    "        return \"1\"\n",
    "print a_bit(line)"
   ]
  },
  {
   "cell_type": "code",
   "execution_count": 4,
   "metadata": {
    "collapsed": false
   },
   "outputs": [
    {
     "name": "stdout",
     "output_type": "stream",
     "text": [
      "-1\n"
     ]
    }
   ],
   "source": [
    "line = \"0;JP\"\n",
    "num = line.find(\"M\")\n",
    "print num\n"
   ]
  },
  {
   "cell_type": "code",
   "execution_count": 11,
   "metadata": {
    "collapsed": false
   },
   "outputs": [
    {
     "name": "stdout",
     "output_type": "stream",
     "text": [
      "000011\n"
     ]
    }
   ],
   "source": [
    "def pad(line):\n",
    "    if len(line) < 6:\n",
    "        line = list(line)\n",
    "        while len(line) < 6:\n",
    "            line.insert(0, \"0\")\n",
    "    return \"\".join(line)\n",
    "print pad(\"11\")"
   ]
  },
  {
   "cell_type": "code",
   "execution_count": 12,
   "metadata": {
    "collapsed": false
   },
   "outputs": [
    {
     "name": "stdout",
     "output_type": "stream",
     "text": [
      "C_COMMAND\n"
     ]
    }
   ],
   "source": [
    "def command_type(line):\n",
    "    \"\"\"\n",
    "    :return: type of current cmd:\n",
    "    - A_COMMAND for @xxx where xxx is either a symbol\n",
    "    or a decimal number.\n",
    "    - C_COMMAND for dest=comp;jump\n",
    "    - L_COMMAND for where xxx is a symbol.\n",
    "    \"\"\"\n",
    "    cc = line\n",
    "    l_command = lambda i : i.find('(') != -1 and i.find(')') != -1\n",
    "    a_command = lambda i : i.find('@') != -1\n",
    "    c_command = lambda i : i.find(\"(\") == -1 and i.find(\"@\") == -1\n",
    "    if l_command(cc):\n",
    "        return \"L_COMMAND\"\n",
    "    elif a_command(cc):\n",
    "        return \"A_COMMAND\"\n",
    "    elif c_command(cc):\n",
    "        return \"C_COMMAND\"\n",
    "print command_type(\"M=0\")"
   ]
  },
  {
   "cell_type": "code",
   "execution_count": 16,
   "metadata": {
    "collapsed": false
   },
   "outputs": [
    {
     "ename": "ValueError",
     "evalue": "invalid literal for int() with base 10: 'D'",
     "output_type": "error",
     "traceback": [
      "\u001b[0;31m---------------------------------------------------------------------------\u001b[0m",
      "\u001b[0;31mValueError\u001b[0m                                Traceback (most recent call last)",
      "\u001b[0;32m<ipython-input-16-11b565b65805>\u001b[0m in \u001b[0;36m<module>\u001b[0;34m()\u001b[0m\n\u001b[1;32m      1\u001b[0m \u001b[0mline\u001b[0m \u001b[0;34m=\u001b[0m \u001b[0;34m\"D\"\u001b[0m\u001b[0;34m\u001b[0m\u001b[0m\n\u001b[0;32m----> 2\u001b[0;31m \u001b[0mint\u001b[0m\u001b[0;34m(\u001b[0m\u001b[0mline\u001b[0m\u001b[0;34m)\u001b[0m\u001b[0;34m\u001b[0m\u001b[0m\n\u001b[0m",
      "\u001b[0;31mValueError\u001b[0m: invalid literal for int() with base 10: 'D'"
     ]
    }
   ],
   "source": [
    "line = \"D\"\n",
    "int(line)"
   ]
  },
  {
   "cell_type": "code",
   "execution_count": 7,
   "metadata": {
    "collapsed": false
   },
   "outputs": [
    {
     "name": "stdout",
     "output_type": "stream",
     "text": [
      "False\n"
     ]
    }
   ],
   "source": [
    "import re\n",
    "def cc_is_int(cc):\n",
    "#     cc = self.cmds[self.command_index]\n",
    "    m = re.search(r'\\d+$', cc)\n",
    "    # if the string ends in digits\n",
    "    contains_char = any([i.isalpha() for i in cc[1:]])\n",
    "    if contains_char:\n",
    "        return False\n",
    "    elif m: return True\n",
    "print cc_is_int(\"@foobar0\")"
   ]
  },
  {
   "cell_type": "code",
   "execution_count": 6,
   "metadata": {
    "collapsed": false
   },
   "outputs": [
    {
     "data": {
      "text/plain": [
       "False"
      ]
     },
     "execution_count": 6,
     "metadata": {},
     "output_type": "execute_result"
    }
   ],
   "source": [
    "x = \"@a\"\n",
    "x.isalpha()"
   ]
  },
  {
   "cell_type": "code",
   "execution_count": null,
   "metadata": {
    "collapsed": true
   },
   "outputs": [],
   "source": []
  }
 ],
 "metadata": {
  "kernelspec": {
   "display_name": "Python 2",
   "language": "python",
   "name": "python2"
  },
  "language_info": {
   "codemirror_mode": {
    "name": "ipython",
    "version": 2
   },
   "file_extension": ".py",
   "mimetype": "text/x-python",
   "name": "python",
   "nbconvert_exporter": "python",
   "pygments_lexer": "ipython2",
   "version": "2.7.8"
  }
 },
 "nbformat": 4,
 "nbformat_minor": 0
}
